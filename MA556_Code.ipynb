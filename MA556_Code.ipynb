{
  "cells": [
    {
      "cell_type": "markdown",
      "metadata": {
        "id": "Yton3k-vua9R"
      },
      "source": [
        "# MA556 Group Project"
      ]
    },
    {
      "cell_type": "markdown",
      "metadata": {
        "id": "dPAHl2rMua9T"
      },
      "source": [
        "## Part 1: Attain Survey Weights"
      ]
    },
    {
      "cell_type": "code",
      "execution_count": 20,
      "metadata": {
        "colab": {
          "base_uri": "https://localhost:8080/"
        },
        "id": "RL2DZBjvua9U",
        "outputId": "5164e2e5-5b1a-4c18-9172-486d7e566f4a"
      },
      "outputs": [
        {
          "output_type": "stream",
          "name": "stdout",
          "text": [
            "Optimization terminated successfully.\n",
            "         Current function value: 0.527029\n",
            "         Iterations 6\n",
            "0      1.587478\n",
            "1      1.432752\n",
            "2      1.391193\n",
            "3      1.518283\n",
            "4      0.882995\n",
            "         ...   \n",
            "434    0.889431\n",
            "435    1.276626\n",
            "436    1.226029\n",
            "437    1.285220\n",
            "438    1.270359\n",
            "Name: AdjustedWeight, Length: 439, dtype: float64\n"
          ]
        }
      ],
      "source": [
        "import numpy as np\n",
        "import pandas as pd\n",
        "import statsmodels.api as sm\n",
        "from scipy.special import expit # Logistic function\n",
        "\n",
        "# Generate values of z from the normal distribution model\n",
        "def generate_z(mu_z, sigma_z, N):\n",
        "    z = np.random.normal(mu_z, sigma_z, N)\n",
        "    return z\n",
        "\n",
        "# Calculate the propensity score using logistic regression\n",
        "def compute_propensity_scores(data, psi, predictors=['Intercept', 'Age', 'Sex', 'Z']):\n",
        "    # Calculate v'ψ\n",
        "    linear_predictor = np.dot(data[predictors], psi)\n",
        "\n",
        "    # Apply the logistic to propensity\n",
        "    propensity_scores = expit(linear_predictor)\n",
        "\n",
        "    return propensity_scores\n",
        "\n",
        "def compute_survey_weights(data, propensity_scores):\n",
        "    N = len(data)  # Total # individuals\n",
        "    f = 1 / N  # Sample fraction\n",
        "\n",
        "    # Calculate W_i\n",
        "    original_weights = N / propensity_scores\n",
        "\n",
        "    # Calculate adjusted w_i\n",
        "    adjusted_weights = f * original_weights / original_weights.mean()\n",
        "\n",
        "    # Calculate effective sample size n_hat\n",
        "    n_hat = (original_weights.sum())**2 / (original_weights**2).sum()\n",
        "\n",
        "    # Calculate final adjusted survey weights\n",
        "    final_adjusted_weights = n_hat * original_weights / original_weights.sum()\n",
        "\n",
        "    return final_adjusted_weights\n",
        "\n",
        "\n",
        "# Import data\n",
        "data = pd.read_csv('Updated_Project_chromosome.csv')\n",
        "\n",
        "# Generate values of z\n",
        "mu_z = 0\n",
        "sigma_z = 1\n",
        "\n",
        "N = len(data)\n",
        "data['Z'] = generate_z(mu_z, sigma_z, N)\n",
        "\n",
        "# Fit the logistic regression\n",
        "predictors = ['Intercept', 'Age', 'Sex', 'Z']\n",
        "response = 'Treatment'\n",
        "\n",
        "model = sm.Logit(data[response], data[predictors])\n",
        "results = model.fit()\n",
        "\n",
        "# The fitted coefficients 'psi'\n",
        "psi = results.params\n",
        "\n",
        "# Fit logistic regression\n",
        "X = data[predictors]\n",
        "y = data[response]\n",
        "\n",
        "propensity_scores = compute_propensity_scores(data, psi)\n",
        "adjusted_weights = compute_survey_weights(data, propensity_scores)\n",
        "\n",
        "data['AdjustedWeight'] = adjusted_weights\n",
        "\n",
        "print(data['AdjustedWeight'])\n"
      ]
    },
    {
      "cell_type": "code",
      "source": [
        "w = data['AdjustedWeight'].to_numpy()"
      ],
      "metadata": {
        "id": "P1kO-yayzah2"
      },
      "execution_count": 15,
      "outputs": []
    },
    {
      "cell_type": "markdown",
      "metadata": {
        "id": "oPe9JQzIua9W"
      },
      "source": [
        "## Depricated Code"
      ]
    },
    {
      "cell_type": "code",
      "execution_count": null,
      "metadata": {
        "id": "1HsdILNSua9W"
      },
      "outputs": [],
      "source": [
        "# df = pd.read_csv('data.csv')\n",
        "# df['Intercept'] = 1\n",
        "# df['Treatment'] = df['Subject'].apply(lambda x: 0 if 'C' in x else 1)\n",
        "# df = pd.get_dummies(df, columns=['Sex'], drop_first=True)\n",
        "# df = df.rename(columns={'Sex_M':'Sex'})\n",
        "\n",
        "# df.to_csv('data_table.csv')\n"
      ]
    },
    {
      "cell_type": "code",
      "source": [],
      "metadata": {
        "id": "iPN50a7Qz9Sh"
      },
      "execution_count": null,
      "outputs": []
    },
    {
      "cell_type": "markdown",
      "source": [
        "## Part 2: MCMC"
      ],
      "metadata": {
        "id": "6LpDlvYpz9h1"
      }
    },
    {
      "cell_type": "code",
      "source": [
        "import pymc as pm\n",
        "import numpy as np\n",
        "\n",
        "n_samples = len(data.iloc[:39])\n",
        "x_data = data[['Intercept', 'Treatment', 'Age', 'Sex', 'Z']].iloc[:39].values\n",
        "y_data = data['y'].iloc[:39].values\n",
        "treatment_data = data['Treatment'].iloc[:39].values\n",
        "w_data = data['AdjustedWeight'].iloc[:39].values\n",
        "\n",
        "with pm.Model() as hierarchical_model:\n",
        "    #delta_squared = pm.InverseGamma('delta_squared', alpha=0.001, beta=0.001)\n",
        "    #gamma = pm.Normal('gamma', mu=0, sigma=pm.math.sqrt(delta_squared), shape=5)\n",
        "    #z_i_mean = pm.math.dot(x_data, gamma)\n",
        "    #z_i = pm.Normal('z_i', mu=z_i_mean, sigma=pm.math.sqrt(delta_squared / w_data), shape=n_samples)\n",
        "\n",
        "    # Separate priors for beta0 and beta1\n",
        "    beta0 = pm.Normal('beta0', mu=0, sigma=1, shape=5)\n",
        "    beta1 = pm.Normal('beta1', mu=0, sigma=1, shape=5)\n",
        "\n",
        "    # Standard deviations and correlation for y0i and y1i\n",
        "    sigma0 = pm.HalfNormal('sigma0', sigma=1)\n",
        "    sigma1 = pm.HalfNormal('sigma1', sigma=1)\n",
        "    rho = pm.Uniform('rho', lower=0, upper=1)\n",
        "\n",
        "    # Bivariate normal for potential outcomes y0i and y1i\n",
        "    cov = pm.math.stack([[sigma0**2, rho * sigma0 * sigma1],\n",
        "                         [rho * sigma0 * sigma1, sigma1**2]])\n",
        "    y0i_mean = pm.math.dot(x_data, beta0)\n",
        "    y1i_mean = pm.math.dot(x_data, beta1)\n",
        "    outcomes = pm.MvNormal(\n",
        "        'outcomes',\n",
        "        mu=pm.math.stack([y0i_mean, y1i_mean], axis=1),\n",
        "        cov=cov,\n",
        "        observed=[[y_data[i],0] if treatment_data[i] == 0 else [0,y_data[i]] for i in range(39)] #need to change this...\n",
        "    )\n",
        "    trace = pm.sample(1000, return_inferencedata=True, target_accept=0.95, tune=1500)"
      ],
      "metadata": {
        "colab": {
          "base_uri": "https://localhost:8080/",
          "height": 57
        },
        "id": "0945zn0iufdu",
        "outputId": "beb72884-9e54-4548-91eb-2986700af8be"
      },
      "execution_count": 24,
      "outputs": [
        {
          "output_type": "display_data",
          "data": {
            "text/plain": [
              "<IPython.core.display.HTML object>"
            ],
            "text/html": [
              "\n",
              "<style>\n",
              "    /* Turns off some styling */\n",
              "    progress {\n",
              "        /* gets rid of default border in Firefox and Opera. */\n",
              "        border: none;\n",
              "        /* Needs to be in here for Safari polyfill so background images work as expected. */\n",
              "        background-size: auto;\n",
              "    }\n",
              "    progress:not([value]), progress:not([value])::-webkit-progress-bar {\n",
              "        background: repeating-linear-gradient(45deg, #7e7e7e, #7e7e7e 10px, #5c5c5c 10px, #5c5c5c 20px);\n",
              "    }\n",
              "    .progress-bar-interrupted, .progress-bar-interrupted::-webkit-progress-bar {\n",
              "        background: #F44336;\n",
              "    }\n",
              "</style>\n"
            ]
          },
          "metadata": {}
        },
        {
          "output_type": "display_data",
          "data": {
            "text/plain": [
              "<IPython.core.display.HTML object>"
            ],
            "text/html": [
              "\n",
              "    <div>\n",
              "      <progress value='2500' class='' max='2500' style='width:300px; height:20px; vertical-align: middle;'></progress>\n",
              "      100.00% [2500/2500 02:38&lt;00:00 Sampling chain 0, 0 divergences]\n",
              "    </div>\n",
              "    "
            ]
          },
          "metadata": {}
        },
        {
          "output_type": "display_data",
          "data": {
            "text/plain": [
              "<IPython.core.display.HTML object>"
            ],
            "text/html": [
              "\n",
              "<style>\n",
              "    /* Turns off some styling */\n",
              "    progress {\n",
              "        /* gets rid of default border in Firefox and Opera. */\n",
              "        border: none;\n",
              "        /* Needs to be in here for Safari polyfill so background images work as expected. */\n",
              "        background-size: auto;\n",
              "    }\n",
              "    progress:not([value]), progress:not([value])::-webkit-progress-bar {\n",
              "        background: repeating-linear-gradient(45deg, #7e7e7e, #7e7e7e 10px, #5c5c5c 10px, #5c5c5c 20px);\n",
              "    }\n",
              "    .progress-bar-interrupted, .progress-bar-interrupted::-webkit-progress-bar {\n",
              "        background: #F44336;\n",
              "    }\n",
              "</style>\n"
            ]
          },
          "metadata": {}
        },
        {
          "output_type": "display_data",
          "data": {
            "text/plain": [
              "<IPython.core.display.HTML object>"
            ],
            "text/html": [
              "\n",
              "    <div>\n",
              "      <progress value='2500' class='' max='2500' style='width:300px; height:20px; vertical-align: middle;'></progress>\n",
              "      100.00% [2500/2500 02:34&lt;00:00 Sampling chain 1, 0 divergences]\n",
              "    </div>\n",
              "    "
            ]
          },
          "metadata": {}
        }
      ]
    },
    {
      "cell_type": "markdown",
      "source": [
        "## Part 3: Beyesian Predictive Inference"
      ],
      "metadata": {
        "id": "vZvb2Qez3H4t"
      }
    },
    {
      "cell_type": "code",
      "source": [
        "b0 = np.mean(trace.posterior['beta0'], axis= 1)[0]"
      ],
      "metadata": {
        "id": "bANhGoFGLeHr"
      },
      "execution_count": 48,
      "outputs": []
    },
    {
      "cell_type": "code",
      "source": [
        "b1 = np.mean(trace.posterior['beta1'], axis= 1)[0]"
      ],
      "metadata": {
        "id": "dkJNIT5P3Fr6"
      },
      "execution_count": 49,
      "outputs": []
    },
    {
      "cell_type": "code",
      "source": [
        "print(b0,b1)"
      ],
      "metadata": {
        "colab": {
          "base_uri": "https://localhost:8080/"
        },
        "id": "jb_v3RV-MJ-k",
        "outputId": "13202d53-08e7-4a15-dc72-f899fcc51fff"
      },
      "execution_count": 50,
      "outputs": [
        {
          "output_type": "stream",
          "name": "stdout",
          "text": [
            "<xarray.DataArray 'beta0' (beta0_dim_0: 5)>\n",
            "array([ 0.55236552, -0.93863932,  0.00532862,  0.13846182, -0.17726761])\n",
            "Coordinates:\n",
            "    chain        int64 0\n",
            "  * beta0_dim_0  (beta0_dim_0) int64 0 1 2 3 4 <xarray.DataArray 'beta1' (beta1_dim_0: 5)>\n",
            "array([0.12532367, 2.12867659, 0.00259907, 0.07497326, 0.5528719 ])\n",
            "Coordinates:\n",
            "    chain        int64 0\n",
            "  * beta1_dim_0  (beta1_dim_0) int64 0 1 2 3 4\n"
          ]
        }
      ]
    }
  ],
  "metadata": {
    "kernelspec": {
      "display_name": "Python 3",
      "name": "python3"
    },
    "language_info": {
      "codemirror_mode": {
        "name": "ipython",
        "version": 3
      },
      "file_extension": ".py",
      "mimetype": "text/x-python",
      "name": "python",
      "nbconvert_exporter": "python",
      "pygments_lexer": "ipython3",
      "version": "3.10.6"
    },
    "colab": {
      "provenance": []
    }
  },
  "nbformat": 4,
  "nbformat_minor": 0
}