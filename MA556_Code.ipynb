{
 "cells": [
  {
   "cell_type": "markdown",
   "metadata": {},
   "source": [
    "# MA556 Group Project"
   ]
  },
  {
   "cell_type": "markdown",
   "metadata": {},
   "source": [
    "## Part 1: Attain Survey Weights"
   ]
  },
  {
   "cell_type": "code",
   "execution_count": 11,
   "metadata": {},
   "outputs": [
    {
     "name": "stdout",
     "output_type": "stream",
     "text": [
      "Optimization terminated successfully.\n",
      "         Current function value: 0.609505\n",
      "         Iterations 5\n",
      "0     1.320812\n",
      "1     1.473084\n",
      "2     1.096989\n",
      "3     1.149462\n",
      "4     1.061786\n",
      "5     0.973768\n",
      "6     0.944140\n",
      "7     0.730460\n",
      "8     0.844241\n",
      "9     1.136599\n",
      "10    0.704500\n",
      "11    0.741415\n",
      "12    0.869948\n",
      "13    0.675020\n",
      "14    1.869590\n",
      "15    1.613470\n",
      "16    0.808174\n",
      "17    1.091557\n",
      "18    0.687063\n",
      "19    1.176259\n",
      "20    0.641657\n",
      "21    0.642570\n",
      "22    1.040428\n",
      "23    0.932089\n",
      "24    0.772594\n",
      "25    0.747105\n",
      "26    0.697096\n",
      "27    0.735643\n",
      "28    0.769297\n",
      "29    0.625941\n",
      "30    0.614848\n",
      "31    0.678257\n",
      "32    0.662432\n",
      "33    0.662491\n",
      "34    0.977431\n",
      "35    0.694466\n",
      "36    0.625606\n",
      "Name: AdjustedWeight, dtype: float64\n"
     ]
    }
   ],
   "source": [
    "import numpy as np\n",
    "import pandas as pd\n",
    "import statsmodels.api as sm\n",
    "from scipy.special import expit # Logistic function\n",
    "\n",
    "# Generate values of z from the normal distribution model\n",
    "def generate_z(mu_z, sigma_z, N):\n",
    "    z = np.random.normal(mu_z, sigma_z, N)\n",
    "    return z\n",
    "\n",
    "# Calculate the propensity score using logistic regression\n",
    "def compute_propensity_scores(data, psi, predictors=['Intercept', 'Age', 'Sex', 'Z']):\n",
    "    # Calculate v'ψ\n",
    "    linear_predictor = np.dot(data[predictors], psi)\n",
    "    \n",
    "    # Apply the logistic to propensity\n",
    "    propensity_scores = expit(linear_predictor)\n",
    "\n",
    "    return propensity_scores\n",
    "\n",
    "def compute_survey_weights(data, propensity_scores):\n",
    "    N = len(data)  # Total # individuals\n",
    "    f = 1 / N  # Sample fraction\n",
    "\n",
    "    # Calculate W_i\n",
    "    original_weights = N / propensity_scores\n",
    "\n",
    "    # Calculate adjusted w_i\n",
    "    adjusted_weights = f * original_weights / original_weights.mean()\n",
    "\n",
    "    # Calculate effective sample size n_hat\n",
    "    n_hat = (original_weights.sum())**2 / (original_weights**2).sum()\n",
    "\n",
    "    # Calculate final adjusted survey weights\n",
    "    final_adjusted_weights = n_hat * original_weights / original_weights.sum()\n",
    "\n",
    "    return final_adjusted_weights\n",
    "\n",
    "\n",
    "# Import data\n",
    "data = pd.read_csv('data_table.csv')\n",
    "\n",
    "# Generate values of z\n",
    "mu_z = 0\n",
    "sigma_z = 1\n",
    "\n",
    "N = len(data)\n",
    "data['Z'] = generate_z(mu_z, sigma_z, N)\n",
    "\n",
    "# Fit the logistic regression\n",
    "predictors = ['Intercept', 'Age', 'Sex', 'Z']\n",
    "response = 'Treatment'\n",
    "\n",
    "model = sm.Logit(data[response], data[predictors])\n",
    "results = model.fit()\n",
    "\n",
    "# The fitted coefficients 'psi'\n",
    "psi = results.params\n",
    "\n",
    "# Fit logistic regression\n",
    "X = data[predictors]\n",
    "y = data[response]\n",
    "\n",
    "propensity_scores = compute_propensity_scores(data, psi)\n",
    "adjusted_weights = compute_survey_weights(data, propensity_scores)\n",
    "\n",
    "data['AdjustedWeight'] = adjusted_weights\n",
    "\n",
    "print(data['AdjustedWeight'])\n"
   ]
  },
  {
   "cell_type": "markdown",
   "metadata": {},
   "source": [
    "## Depricated Code"
   ]
  },
  {
   "cell_type": "code",
   "execution_count": null,
   "metadata": {},
   "outputs": [],
   "source": [
    "# df = pd.read_csv('data.csv')\n",
    "# df['Intercept'] = 1\n",
    "# df['Treatment'] = df['Subject'].apply(lambda x: 0 if 'C' in x else 1)\n",
    "# df = pd.get_dummies(df, columns=['Sex'], drop_first=True)\n",
    "# df = df.rename(columns={'Sex_M':'Sex'})\n",
    "\n",
    "# df.to_csv('data_table.csv')\n"
   ]
  }
 ],
 "metadata": {
  "kernelspec": {
   "display_name": "Python 3",
   "language": "python",
   "name": "python3"
  },
  "language_info": {
   "codemirror_mode": {
    "name": "ipython",
    "version": 3
   },
   "file_extension": ".py",
   "mimetype": "text/x-python",
   "name": "python",
   "nbconvert_exporter": "python",
   "pygments_lexer": "ipython3",
   "version": "3.10.6"
  }
 },
 "nbformat": 4,
 "nbformat_minor": 2
}
